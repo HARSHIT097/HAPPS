{
  "nbformat": 4,
  "nbformat_minor": 0,
  "metadata": {
    "colab": {
      "name": "Analytics@Christmas_sales_codiInv.ipynb",
      "provenance": [],
      "collapsed_sections": [],
      "include_colab_link": true
    },
    "kernelspec": {
      "name": "python3",
      "display_name": "Python 3"
    }
  },
  "cells": [
    {
      "cell_type": "markdown",
      "metadata": {
        "id": "view-in-github",
        "colab_type": "text"
      },
      "source": [
        "<a href=\"https://colab.research.google.com/github/HARSHIT097/HAPPS/blob/master/Analytics_Christmas_sales_codiInv.ipynb\" target=\"_parent\"><img src=\"https://colab.research.google.com/assets/colab-badge.svg\" alt=\"Open In Colab\"/></a>"
      ]
    },
    {
      "cell_type": "markdown",
      "metadata": {
        "id": "RpVKXO71WXC6"
      },
      "source": [
        "Our toy store need to generate 5.7М rupess profit.\n",
        "Other way we need to close it :(\n",
        "\n",
        "![](https://media.timeout.com/images/105361021/image.jpg)\n"
      ]
    },
    {
      "cell_type": "code",
      "metadata": {
        "id": "39PYZ2gAWqeO"
      },
      "source": [
        "import pandas as pd\n",
        "import matplotlib.pyplot as plt"
      ],
      "execution_count": 1,
      "outputs": []
    },
    {
      "cell_type": "code",
      "metadata": {
        "id": "AWDYNQiiV4Yl",
        "colab": {
          "base_uri": "https://localhost:8080/",
          "height": 359
        },
        "outputId": "f6a17c18-53ac-42e9-c178-45c7d34440e5"
      },
      "source": [
        "df = pd.read_csv(\"https://raw.githubusercontent.com/lnklnklnk/codinginvaders/main/christmas_sale_2019.csv\")\n",
        "\n",
        "df.head(10)"
      ],
      "execution_count": 2,
      "outputs": [
        {
          "output_type": "execute_result",
          "data": {
            "text/html": [
              "<div>\n",
              "<style scoped>\n",
              "    .dataframe tbody tr th:only-of-type {\n",
              "        vertical-align: middle;\n",
              "    }\n",
              "\n",
              "    .dataframe tbody tr th {\n",
              "        vertical-align: top;\n",
              "    }\n",
              "\n",
              "    .dataframe thead th {\n",
              "        text-align: right;\n",
              "    }\n",
              "</style>\n",
              "<table border=\"1\" class=\"dataframe\">\n",
              "  <thead>\n",
              "    <tr style=\"text-align: right;\">\n",
              "      <th></th>\n",
              "      <th>date</th>\n",
              "      <th>category</th>\n",
              "      <th>count</th>\n",
              "      <th>purchase_price</th>\n",
              "      <th>sale_price</th>\n",
              "      <th>in_stock_eod</th>\n",
              "    </tr>\n",
              "  </thead>\n",
              "  <tbody>\n",
              "    <tr>\n",
              "      <th>0</th>\n",
              "      <td>2019-12-19</td>\n",
              "      <td>Games &amp; Puzzles</td>\n",
              "      <td>200</td>\n",
              "      <td>567</td>\n",
              "      <td>1090</td>\n",
              "      <td>3854</td>\n",
              "    </tr>\n",
              "    <tr>\n",
              "      <th>1</th>\n",
              "      <td>2019-12-20</td>\n",
              "      <td>Games &amp; Puzzles</td>\n",
              "      <td>190</td>\n",
              "      <td>567</td>\n",
              "      <td>1090</td>\n",
              "      <td>3664</td>\n",
              "    </tr>\n",
              "    <tr>\n",
              "      <th>2</th>\n",
              "      <td>2019-12-21</td>\n",
              "      <td>Games &amp; Puzzles</td>\n",
              "      <td>232</td>\n",
              "      <td>567</td>\n",
              "      <td>1090</td>\n",
              "      <td>3432</td>\n",
              "    </tr>\n",
              "    <tr>\n",
              "      <th>3</th>\n",
              "      <td>2019-12-22</td>\n",
              "      <td>Games &amp; Puzzles</td>\n",
              "      <td>227</td>\n",
              "      <td>567</td>\n",
              "      <td>1090</td>\n",
              "      <td>3205</td>\n",
              "    </tr>\n",
              "    <tr>\n",
              "      <th>4</th>\n",
              "      <td>2019-12-23</td>\n",
              "      <td>Games &amp; Puzzles</td>\n",
              "      <td>210</td>\n",
              "      <td>567</td>\n",
              "      <td>1090</td>\n",
              "      <td>2995</td>\n",
              "    </tr>\n",
              "    <tr>\n",
              "      <th>5</th>\n",
              "      <td>2019-12-24</td>\n",
              "      <td>Games &amp; Puzzles</td>\n",
              "      <td>234</td>\n",
              "      <td>567</td>\n",
              "      <td>1090</td>\n",
              "      <td>2761</td>\n",
              "    </tr>\n",
              "    <tr>\n",
              "      <th>6</th>\n",
              "      <td>2019-12-25</td>\n",
              "      <td>Games &amp; Puzzles</td>\n",
              "      <td>226</td>\n",
              "      <td>567</td>\n",
              "      <td>1090</td>\n",
              "      <td>2535</td>\n",
              "    </tr>\n",
              "    <tr>\n",
              "      <th>7</th>\n",
              "      <td>2019-12-19</td>\n",
              "      <td>Education &amp; Construction Toys</td>\n",
              "      <td>146</td>\n",
              "      <td>2450</td>\n",
              "      <td>3990</td>\n",
              "      <td>401</td>\n",
              "    </tr>\n",
              "    <tr>\n",
              "      <th>8</th>\n",
              "      <td>2019-12-20</td>\n",
              "      <td>Education &amp; Construction Toys</td>\n",
              "      <td>160</td>\n",
              "      <td>2450</td>\n",
              "      <td>3990</td>\n",
              "      <td>241</td>\n",
              "    </tr>\n",
              "    <tr>\n",
              "      <th>9</th>\n",
              "      <td>2019-12-21</td>\n",
              "      <td>Education &amp; Construction Toys</td>\n",
              "      <td>160</td>\n",
              "      <td>2450</td>\n",
              "      <td>3990</td>\n",
              "      <td>81</td>\n",
              "    </tr>\n",
              "  </tbody>\n",
              "</table>\n",
              "</div>"
            ],
            "text/plain": [
              "         date                       category  ...  sale_price  in_stock_eod\n",
              "0  2019-12-19                Games & Puzzles  ...        1090          3854\n",
              "1  2019-12-20                Games & Puzzles  ...        1090          3664\n",
              "2  2019-12-21                Games & Puzzles  ...        1090          3432\n",
              "3  2019-12-22                Games & Puzzles  ...        1090          3205\n",
              "4  2019-12-23                Games & Puzzles  ...        1090          2995\n",
              "5  2019-12-24                Games & Puzzles  ...        1090          2761\n",
              "6  2019-12-25                Games & Puzzles  ...        1090          2535\n",
              "7  2019-12-19  Education & Construction Toys  ...        3990           401\n",
              "8  2019-12-20  Education & Construction Toys  ...        3990           241\n",
              "9  2019-12-21  Education & Construction Toys  ...        3990            81\n",
              "\n",
              "[10 rows x 6 columns]"
            ]
          },
          "metadata": {
            "tags": []
          },
          "execution_count": 2
        }
      ]
    },
    {
      "cell_type": "code",
      "metadata": {
        "id": "nQoyR8_hguhV"
      },
      "source": [
        "# Let's add a new column with revenue\n",
        "df['revenue'] = df['count'] * df['sale_price']"
      ],
      "execution_count": 3,
      "outputs": []
    },
    {
      "cell_type": "code",
      "metadata": {
        "id": "86spOqvollCu",
        "colab": {
          "base_uri": "https://localhost:8080/",
          "height": 359
        },
        "outputId": "21ed33b6-8cf7-499a-92b3-ea564997202a"
      },
      "source": [
        "# Display the top 10 lines of the table\n",
        "### YOUR CODE HERE\n",
        "df.head(10)"
      ],
      "execution_count": 4,
      "outputs": [
        {
          "output_type": "execute_result",
          "data": {
            "text/html": [
              "<div>\n",
              "<style scoped>\n",
              "    .dataframe tbody tr th:only-of-type {\n",
              "        vertical-align: middle;\n",
              "    }\n",
              "\n",
              "    .dataframe tbody tr th {\n",
              "        vertical-align: top;\n",
              "    }\n",
              "\n",
              "    .dataframe thead th {\n",
              "        text-align: right;\n",
              "    }\n",
              "</style>\n",
              "<table border=\"1\" class=\"dataframe\">\n",
              "  <thead>\n",
              "    <tr style=\"text-align: right;\">\n",
              "      <th></th>\n",
              "      <th>date</th>\n",
              "      <th>category</th>\n",
              "      <th>count</th>\n",
              "      <th>purchase_price</th>\n",
              "      <th>sale_price</th>\n",
              "      <th>in_stock_eod</th>\n",
              "      <th>revenue</th>\n",
              "    </tr>\n",
              "  </thead>\n",
              "  <tbody>\n",
              "    <tr>\n",
              "      <th>0</th>\n",
              "      <td>2019-12-19</td>\n",
              "      <td>Games &amp; Puzzles</td>\n",
              "      <td>200</td>\n",
              "      <td>567</td>\n",
              "      <td>1090</td>\n",
              "      <td>3854</td>\n",
              "      <td>218000</td>\n",
              "    </tr>\n",
              "    <tr>\n",
              "      <th>1</th>\n",
              "      <td>2019-12-20</td>\n",
              "      <td>Games &amp; Puzzles</td>\n",
              "      <td>190</td>\n",
              "      <td>567</td>\n",
              "      <td>1090</td>\n",
              "      <td>3664</td>\n",
              "      <td>207100</td>\n",
              "    </tr>\n",
              "    <tr>\n",
              "      <th>2</th>\n",
              "      <td>2019-12-21</td>\n",
              "      <td>Games &amp; Puzzles</td>\n",
              "      <td>232</td>\n",
              "      <td>567</td>\n",
              "      <td>1090</td>\n",
              "      <td>3432</td>\n",
              "      <td>252880</td>\n",
              "    </tr>\n",
              "    <tr>\n",
              "      <th>3</th>\n",
              "      <td>2019-12-22</td>\n",
              "      <td>Games &amp; Puzzles</td>\n",
              "      <td>227</td>\n",
              "      <td>567</td>\n",
              "      <td>1090</td>\n",
              "      <td>3205</td>\n",
              "      <td>247430</td>\n",
              "    </tr>\n",
              "    <tr>\n",
              "      <th>4</th>\n",
              "      <td>2019-12-23</td>\n",
              "      <td>Games &amp; Puzzles</td>\n",
              "      <td>210</td>\n",
              "      <td>567</td>\n",
              "      <td>1090</td>\n",
              "      <td>2995</td>\n",
              "      <td>228900</td>\n",
              "    </tr>\n",
              "    <tr>\n",
              "      <th>5</th>\n",
              "      <td>2019-12-24</td>\n",
              "      <td>Games &amp; Puzzles</td>\n",
              "      <td>234</td>\n",
              "      <td>567</td>\n",
              "      <td>1090</td>\n",
              "      <td>2761</td>\n",
              "      <td>255060</td>\n",
              "    </tr>\n",
              "    <tr>\n",
              "      <th>6</th>\n",
              "      <td>2019-12-25</td>\n",
              "      <td>Games &amp; Puzzles</td>\n",
              "      <td>226</td>\n",
              "      <td>567</td>\n",
              "      <td>1090</td>\n",
              "      <td>2535</td>\n",
              "      <td>246340</td>\n",
              "    </tr>\n",
              "    <tr>\n",
              "      <th>7</th>\n",
              "      <td>2019-12-19</td>\n",
              "      <td>Education &amp; Construction Toys</td>\n",
              "      <td>146</td>\n",
              "      <td>2450</td>\n",
              "      <td>3990</td>\n",
              "      <td>401</td>\n",
              "      <td>582540</td>\n",
              "    </tr>\n",
              "    <tr>\n",
              "      <th>8</th>\n",
              "      <td>2019-12-20</td>\n",
              "      <td>Education &amp; Construction Toys</td>\n",
              "      <td>160</td>\n",
              "      <td>2450</td>\n",
              "      <td>3990</td>\n",
              "      <td>241</td>\n",
              "      <td>638400</td>\n",
              "    </tr>\n",
              "    <tr>\n",
              "      <th>9</th>\n",
              "      <td>2019-12-21</td>\n",
              "      <td>Education &amp; Construction Toys</td>\n",
              "      <td>160</td>\n",
              "      <td>2450</td>\n",
              "      <td>3990</td>\n",
              "      <td>81</td>\n",
              "      <td>638400</td>\n",
              "    </tr>\n",
              "  </tbody>\n",
              "</table>\n",
              "</div>"
            ],
            "text/plain": [
              "         date                       category  ...  in_stock_eod  revenue\n",
              "0  2019-12-19                Games & Puzzles  ...          3854   218000\n",
              "1  2019-12-20                Games & Puzzles  ...          3664   207100\n",
              "2  2019-12-21                Games & Puzzles  ...          3432   252880\n",
              "3  2019-12-22                Games & Puzzles  ...          3205   247430\n",
              "4  2019-12-23                Games & Puzzles  ...          2995   228900\n",
              "5  2019-12-24                Games & Puzzles  ...          2761   255060\n",
              "6  2019-12-25                Games & Puzzles  ...          2535   246340\n",
              "7  2019-12-19  Education & Construction Toys  ...           401   582540\n",
              "8  2019-12-20  Education & Construction Toys  ...           241   638400\n",
              "9  2019-12-21  Education & Construction Toys  ...            81   638400\n",
              "\n",
              "[10 rows x 7 columns]"
            ]
          },
          "metadata": {
            "tags": []
          },
          "execution_count": 4
        }
      ]
    },
    {
      "cell_type": "code",
      "metadata": {
        "id": "prsH_3BRiG2E",
        "colab": {
          "base_uri": "https://localhost:8080/"
        },
        "outputId": "5be70d4c-bcae-4f49-f901-035bc6064cac"
      },
      "source": [
        "# Let's calculate how much sales did we get!\n",
        "df['revenue'].sum()"
      ],
      "execution_count": 5,
      "outputs": [
        {
          "output_type": "execute_result",
          "data": {
            "text/plain": [
              "12766840"
            ]
          },
          "metadata": {
            "tags": []
          },
          "execution_count": 5
        }
      ]
    },
    {
      "cell_type": "code",
      "metadata": {
        "id": "nxrsZt40hafm",
        "colab": {
          "base_uri": "https://localhost:8080/"
        },
        "outputId": "528971d3-ce32-4d06-a7d8-6c42bd201241"
      },
      "source": [
        "# Let's add a new column with total cost price\n",
        "df['total_cost'] = df['count'] * df['purchase_price']\n",
        "df['total_cost'].sum()"
      ],
      "execution_count": 6,
      "outputs": [
        {
          "output_type": "execute_result",
          "data": {
            "text/plain": [
              "7801153"
            ]
          },
          "metadata": {
            "tags": []
          },
          "execution_count": 6
        }
      ]
    },
    {
      "cell_type": "code",
      "metadata": {
        "id": "GcY9HBChhsLB",
        "colab": {
          "base_uri": "https://localhost:8080/"
        },
        "outputId": "cdcad75b-3acf-44e5-ad8d-df28ddc53d3d"
      },
      "source": [
        "# Let's add a profit column. \n",
        "# Profit = Revenue - Total Cost\n",
        "\n",
        "### YOUR CODE HERE\n",
        "df['profit'] = df['revenue'] * df['total_cost']\n",
        "\n",
        "\n",
        "profit = df['profit'].sum()\n",
        "profit"
      ],
      "execution_count": 7,
      "outputs": [
        {
          "output_type": "execute_result",
          "data": {
            "text/plain": [
              "3229730286850"
            ]
          },
          "metadata": {
            "tags": []
          },
          "execution_count": 7
        }
      ]
    },
    {
      "cell_type": "code",
      "metadata": {
        "id": "p8uaHYoulI6O",
        "colab": {
          "base_uri": "https://localhost:8080/",
          "height": 459
        },
        "outputId": "61323c63-2224-4448-c761-9ce42c363138"
      },
      "source": [
        "# Let's make a visualisation of our sales per category per day\n",
        "df.groupby(['date','category']).sum()['count'].unstack().plot(figsize=(10, 7))"
      ],
      "execution_count": 8,
      "outputs": [
        {
          "output_type": "execute_result",
          "data": {
            "text/plain": [
              "<matplotlib.axes._subplots.AxesSubplot at 0x7f10c93d26a0>"
            ]
          },
          "metadata": {
            "tags": []
          },
          "execution_count": 8
        },
        {
          "output_type": "display_data",
          "data": {
            "image/png": "[encoded data removed]",
            "text/plain": [
              "<Figure size 720x504 with 1 Axes>"
            ]
          },
          "metadata": {
            "tags": [],
            "needs_background": "light"
          }
        }
      ]
    },
    {
      "cell_type": "markdown",
      "metadata": {
        "id": "hRGRfMY2nDhE"
      },
      "source": [
        "Does it looks OK?"
      ]
    },
    {
      "cell_type": "code",
      "metadata": {
        "id": "YAQ-alepKenI"
      },
      "source": [
        ""
      ],
      "execution_count": 8,
      "outputs": []
    },
    {
      "cell_type": "code",
      "metadata": {
        "id": "qcdcBX_qTCV6",
        "colab": {
          "base_uri": "https://localhost:8080/"
        },
        "outputId": "b58a714f-f5ec-4174-e718-4f02ad462255"
      },
      "source": [
        "# List of all categories\n",
        "df['category'].unique()"
      ],
      "execution_count": 19,
      "outputs": [
        {
          "output_type": "execute_result",
          "data": {
            "text/plain": [
              "array(['Games & Puzzles', 'Education & Construction Toys',\n",
              "       'Dolls & Fashion', 'Collectibles & Toy Guns', 'Books & Magazines',\n",
              "       'Vehicles, Tracksets & Remote Control Toys', 'New Gen Toys'],\n",
              "      dtype=object)"
            ]
          },
          "metadata": {
            "tags": []
          },
          "execution_count": 19
        }
      ]
    },
    {
      "cell_type": "code",
      "metadata": {
        "id": "JqTEUGgFmdX7",
        "colab": {
          "base_uri": "https://localhost:8080/",
          "height": 266
        },
        "outputId": "cf2bbd73-1d25-4ead-c866-f0434b0d8a66"
      },
      "source": [
        "# Let's take a view on dolls category that looks OK\n",
        "df.loc[df['category'] == 'Games & Puzzles']"
      ],
      "execution_count": 20,
      "outputs": [
        {
          "output_type": "execute_result",
          "data": {
            "text/html": [
              "<div>\n",
              "<style scoped>\n",
              "    .dataframe tbody tr th:only-of-type {\n",
              "        vertical-align: middle;\n",
              "    }\n",
              "\n",
              "    .dataframe tbody tr th {\n",
              "        vertical-align: top;\n",
              "    }\n",
              "\n",
              "    .dataframe thead th {\n",
              "        text-align: right;\n",
              "    }\n",
              "</style>\n",
              "<table border=\"1\" class=\"dataframe\">\n",
              "  <thead>\n",
              "    <tr style=\"text-align: right;\">\n",
              "      <th></th>\n",
              "      <th>date</th>\n",
              "      <th>category</th>\n",
              "      <th>count</th>\n",
              "      <th>purchase_price</th>\n",
              "      <th>sale_price</th>\n",
              "      <th>in_stock_eod</th>\n",
              "      <th>revenue</th>\n",
              "      <th>total_cost</th>\n",
              "      <th>profit</th>\n",
              "    </tr>\n",
              "  </thead>\n",
              "  <tbody>\n",
              "    <tr>\n",
              "      <th>0</th>\n",
              "      <td>2019-12-19</td>\n",
              "      <td>Games &amp; Puzzles</td>\n",
              "      <td>200</td>\n",
              "      <td>567</td>\n",
              "      <td>1090</td>\n",
              "      <td>3854</td>\n",
              "      <td>218000</td>\n",
              "      <td>113400</td>\n",
              "      <td>24721200000</td>\n",
              "    </tr>\n",
              "    <tr>\n",
              "      <th>1</th>\n",
              "      <td>2019-12-20</td>\n",
              "      <td>Games &amp; Puzzles</td>\n",
              "      <td>190</td>\n",
              "      <td>567</td>\n",
              "      <td>1090</td>\n",
              "      <td>3664</td>\n",
              "      <td>207100</td>\n",
              "      <td>107730</td>\n",
              "      <td>22310883000</td>\n",
              "    </tr>\n",
              "    <tr>\n",
              "      <th>2</th>\n",
              "      <td>2019-12-21</td>\n",
              "      <td>Games &amp; Puzzles</td>\n",
              "      <td>232</td>\n",
              "      <td>567</td>\n",
              "      <td>1090</td>\n",
              "      <td>3432</td>\n",
              "      <td>252880</td>\n",
              "      <td>131544</td>\n",
              "      <td>33264846720</td>\n",
              "    </tr>\n",
              "    <tr>\n",
              "      <th>3</th>\n",
              "      <td>2019-12-22</td>\n",
              "      <td>Games &amp; Puzzles</td>\n",
              "      <td>227</td>\n",
              "      <td>567</td>\n",
              "      <td>1090</td>\n",
              "      <td>3205</td>\n",
              "      <td>247430</td>\n",
              "      <td>128709</td>\n",
              "      <td>31846467870</td>\n",
              "    </tr>\n",
              "    <tr>\n",
              "      <th>4</th>\n",
              "      <td>2019-12-23</td>\n",
              "      <td>Games &amp; Puzzles</td>\n",
              "      <td>210</td>\n",
              "      <td>567</td>\n",
              "      <td>1090</td>\n",
              "      <td>2995</td>\n",
              "      <td>228900</td>\n",
              "      <td>119070</td>\n",
              "      <td>27255123000</td>\n",
              "    </tr>\n",
              "    <tr>\n",
              "      <th>5</th>\n",
              "      <td>2019-12-24</td>\n",
              "      <td>Games &amp; Puzzles</td>\n",
              "      <td>234</td>\n",
              "      <td>567</td>\n",
              "      <td>1090</td>\n",
              "      <td>2761</td>\n",
              "      <td>255060</td>\n",
              "      <td>132678</td>\n",
              "      <td>33840850680</td>\n",
              "    </tr>\n",
              "    <tr>\n",
              "      <th>6</th>\n",
              "      <td>2019-12-25</td>\n",
              "      <td>Games &amp; Puzzles</td>\n",
              "      <td>226</td>\n",
              "      <td>567</td>\n",
              "      <td>1090</td>\n",
              "      <td>2535</td>\n",
              "      <td>246340</td>\n",
              "      <td>128142</td>\n",
              "      <td>31566500280</td>\n",
              "    </tr>\n",
              "  </tbody>\n",
              "</table>\n",
              "</div>"
            ],
            "text/plain": [
              "         date         category  count  ...  revenue  total_cost       profit\n",
              "0  2019-12-19  Games & Puzzles    200  ...   218000      113400  24721200000\n",
              "1  2019-12-20  Games & Puzzles    190  ...   207100      107730  22310883000\n",
              "2  2019-12-21  Games & Puzzles    232  ...   252880      131544  33264846720\n",
              "3  2019-12-22  Games & Puzzles    227  ...   247430      128709  31846467870\n",
              "4  2019-12-23  Games & Puzzles    210  ...   228900      119070  27255123000\n",
              "5  2019-12-24  Games & Puzzles    234  ...   255060      132678  33840850680\n",
              "6  2019-12-25  Games & Puzzles    226  ...   246340      128142  31566500280\n",
              "\n",
              "[7 rows x 9 columns]"
            ]
          },
          "metadata": {
            "tags": []
          },
          "execution_count": 20
        }
      ]
    },
    {
      "cell_type": "code",
      "metadata": {
        "id": "0EwoIWeWmutQ",
        "colab": {
          "base_uri": "https://localhost:8080/",
          "height": 266
        },
        "outputId": "ae26d29e-0930-41b5-f94e-3547c947c1d3"
      },
      "source": [
        "# Let's take a view on \"Education & Construction Toys\" category that looks strange\n",
        "### YOUR CODE HERE\n",
        "\n",
        "df.loc[df['category'] == 'Education & Construction Toys']"
      ],
      "execution_count": 21,
      "outputs": [
        {
          "output_type": "execute_result",
          "data": {
            "text/html": [
              "<div>\n",
              "<style scoped>\n",
              "    .dataframe tbody tr th:only-of-type {\n",
              "        vertical-align: middle;\n",
              "    }\n",
              "\n",
              "    .dataframe tbody tr th {\n",
              "        vertical-align: top;\n",
              "    }\n",
              "\n",
              "    .dataframe thead th {\n",
              "        text-align: right;\n",
              "    }\n",
              "</style>\n",
              "<table border=\"1\" class=\"dataframe\">\n",
              "  <thead>\n",
              "    <tr style=\"text-align: right;\">\n",
              "      <th></th>\n",
              "      <th>date</th>\n",
              "      <th>category</th>\n",
              "      <th>count</th>\n",
              "      <th>purchase_price</th>\n",
              "      <th>sale_price</th>\n",
              "      <th>in_stock_eod</th>\n",
              "      <th>revenue</th>\n",
              "      <th>total_cost</th>\n",
              "      <th>profit</th>\n",
              "    </tr>\n",
              "  </thead>\n",
              "  <tbody>\n",
              "    <tr>\n",
              "      <th>7</th>\n",
              "      <td>2019-12-19</td>\n",
              "      <td>Education &amp; Construction Toys</td>\n",
              "      <td>146</td>\n",
              "      <td>2450</td>\n",
              "      <td>3990</td>\n",
              "      <td>401</td>\n",
              "      <td>582540</td>\n",
              "      <td>357700</td>\n",
              "      <td>208374558000</td>\n",
              "    </tr>\n",
              "    <tr>\n",
              "      <th>8</th>\n",
              "      <td>2019-12-20</td>\n",
              "      <td>Education &amp; Construction Toys</td>\n",
              "      <td>160</td>\n",
              "      <td>2450</td>\n",
              "      <td>3990</td>\n",
              "      <td>241</td>\n",
              "      <td>638400</td>\n",
              "      <td>392000</td>\n",
              "      <td>250252800000</td>\n",
              "    </tr>\n",
              "    <tr>\n",
              "      <th>9</th>\n",
              "      <td>2019-12-21</td>\n",
              "      <td>Education &amp; Construction Toys</td>\n",
              "      <td>160</td>\n",
              "      <td>2450</td>\n",
              "      <td>3990</td>\n",
              "      <td>81</td>\n",
              "      <td>638400</td>\n",
              "      <td>392000</td>\n",
              "      <td>250252800000</td>\n",
              "    </tr>\n",
              "    <tr>\n",
              "      <th>10</th>\n",
              "      <td>2019-12-22</td>\n",
              "      <td>Education &amp; Construction Toys</td>\n",
              "      <td>81</td>\n",
              "      <td>2450</td>\n",
              "      <td>3990</td>\n",
              "      <td>0</td>\n",
              "      <td>323190</td>\n",
              "      <td>198450</td>\n",
              "      <td>64137055500</td>\n",
              "    </tr>\n",
              "    <tr>\n",
              "      <th>11</th>\n",
              "      <td>2019-12-23</td>\n",
              "      <td>Education &amp; Construction Toys</td>\n",
              "      <td>0</td>\n",
              "      <td>2450</td>\n",
              "      <td>3990</td>\n",
              "      <td>0</td>\n",
              "      <td>0</td>\n",
              "      <td>0</td>\n",
              "      <td>0</td>\n",
              "    </tr>\n",
              "    <tr>\n",
              "      <th>12</th>\n",
              "      <td>2019-12-24</td>\n",
              "      <td>Education &amp; Construction Toys</td>\n",
              "      <td>0</td>\n",
              "      <td>2450</td>\n",
              "      <td>3990</td>\n",
              "      <td>0</td>\n",
              "      <td>0</td>\n",
              "      <td>0</td>\n",
              "      <td>0</td>\n",
              "    </tr>\n",
              "    <tr>\n",
              "      <th>13</th>\n",
              "      <td>2019-12-25</td>\n",
              "      <td>Education &amp; Construction Toys</td>\n",
              "      <td>0</td>\n",
              "      <td>2450</td>\n",
              "      <td>3990</td>\n",
              "      <td>0</td>\n",
              "      <td>0</td>\n",
              "      <td>0</td>\n",
              "      <td>0</td>\n",
              "    </tr>\n",
              "  </tbody>\n",
              "</table>\n",
              "</div>"
            ],
            "text/plain": [
              "          date                       category  ...  total_cost        profit\n",
              "7   2019-12-19  Education & Construction Toys  ...      357700  208374558000\n",
              "8   2019-12-20  Education & Construction Toys  ...      392000  250252800000\n",
              "9   2019-12-21  Education & Construction Toys  ...      392000  250252800000\n",
              "10  2019-12-22  Education & Construction Toys  ...      198450   64137055500\n",
              "11  2019-12-23  Education & Construction Toys  ...           0             0\n",
              "12  2019-12-24  Education & Construction Toys  ...           0             0\n",
              "13  2019-12-25  Education & Construction Toys  ...           0             0\n",
              "\n",
              "[7 rows x 9 columns]"
            ]
          },
          "metadata": {
            "tags": []
          },
          "execution_count": 21
        }
      ]
    },
    {
      "cell_type": "markdown",
      "metadata": {
        "id": "NQYImNoZnZW7"
      },
      "source": [
        "Now we will a make a prediction: how much profit we can generate if we will have those categories in stock"
      ]
    },
    {
      "cell_type": "code",
      "metadata": {
        "id": "hDZdpUginsVg",
        "colab": {
          "base_uri": "https://localhost:8080/",
          "height": 266
        },
        "outputId": "ed24d015-7a9b-4b7d-f405-b2d857e72705"
      },
      "source": [
        "# Let's find all the data for Education & Construction Toys category\n",
        "education_all = df.loc[df['category'] == 'Education & Construction Toys']\n",
        "education_all"
      ],
      "execution_count": 12,
      "outputs": [
        {
          "output_type": "execute_result",
          "data": {
            "text/html": [
              "<div>\n",
              "<style scoped>\n",
              "    .dataframe tbody tr th:only-of-type {\n",
              "        vertical-align: middle;\n",
              "    }\n",
              "\n",
              "    .dataframe tbody tr th {\n",
              "        vertical-align: top;\n",
              "    }\n",
              "\n",
              "    .dataframe thead th {\n",
              "        text-align: right;\n",
              "    }\n",
              "</style>\n",
              "<table border=\"1\" class=\"dataframe\">\n",
              "  <thead>\n",
              "    <tr style=\"text-align: right;\">\n",
              "      <th></th>\n",
              "      <th>date</th>\n",
              "      <th>category</th>\n",
              "      <th>count</th>\n",
              "      <th>purchase_price</th>\n",
              "      <th>sale_price</th>\n",
              "      <th>in_stock_eod</th>\n",
              "      <th>revenue</th>\n",
              "      <th>total_cost</th>\n",
              "      <th>profit</th>\n",
              "    </tr>\n",
              "  </thead>\n",
              "  <tbody>\n",
              "    <tr>\n",
              "      <th>7</th>\n",
              "      <td>2019-12-19</td>\n",
              "      <td>Education &amp; Construction Toys</td>\n",
              "      <td>146</td>\n",
              "      <td>2450</td>\n",
              "      <td>3990</td>\n",
              "      <td>401</td>\n",
              "      <td>582540</td>\n",
              "      <td>357700</td>\n",
              "      <td>208374558000</td>\n",
              "    </tr>\n",
              "    <tr>\n",
              "      <th>8</th>\n",
              "      <td>2019-12-20</td>\n",
              "      <td>Education &amp; Construction Toys</td>\n",
              "      <td>160</td>\n",
              "      <td>2450</td>\n",
              "      <td>3990</td>\n",
              "      <td>241</td>\n",
              "      <td>638400</td>\n",
              "      <td>392000</td>\n",
              "      <td>250252800000</td>\n",
              "    </tr>\n",
              "    <tr>\n",
              "      <th>9</th>\n",
              "      <td>2019-12-21</td>\n",
              "      <td>Education &amp; Construction Toys</td>\n",
              "      <td>160</td>\n",
              "      <td>2450</td>\n",
              "      <td>3990</td>\n",
              "      <td>81</td>\n",
              "      <td>638400</td>\n",
              "      <td>392000</td>\n",
              "      <td>250252800000</td>\n",
              "    </tr>\n",
              "    <tr>\n",
              "      <th>10</th>\n",
              "      <td>2019-12-22</td>\n",
              "      <td>Education &amp; Construction Toys</td>\n",
              "      <td>81</td>\n",
              "      <td>2450</td>\n",
              "      <td>3990</td>\n",
              "      <td>0</td>\n",
              "      <td>323190</td>\n",
              "      <td>198450</td>\n",
              "      <td>64137055500</td>\n",
              "    </tr>\n",
              "    <tr>\n",
              "      <th>11</th>\n",
              "      <td>2019-12-23</td>\n",
              "      <td>Education &amp; Construction Toys</td>\n",
              "      <td>0</td>\n",
              "      <td>2450</td>\n",
              "      <td>3990</td>\n",
              "      <td>0</td>\n",
              "      <td>0</td>\n",
              "      <td>0</td>\n",
              "      <td>0</td>\n",
              "    </tr>\n",
              "    <tr>\n",
              "      <th>12</th>\n",
              "      <td>2019-12-24</td>\n",
              "      <td>Education &amp; Construction Toys</td>\n",
              "      <td>0</td>\n",
              "      <td>2450</td>\n",
              "      <td>3990</td>\n",
              "      <td>0</td>\n",
              "      <td>0</td>\n",
              "      <td>0</td>\n",
              "      <td>0</td>\n",
              "    </tr>\n",
              "    <tr>\n",
              "      <th>13</th>\n",
              "      <td>2019-12-25</td>\n",
              "      <td>Education &amp; Construction Toys</td>\n",
              "      <td>0</td>\n",
              "      <td>2450</td>\n",
              "      <td>3990</td>\n",
              "      <td>0</td>\n",
              "      <td>0</td>\n",
              "      <td>0</td>\n",
              "      <td>0</td>\n",
              "    </tr>\n",
              "  </tbody>\n",
              "</table>\n",
              "</div>"
            ],
            "text/plain": [
              "          date                       category  ...  total_cost        profit\n",
              "7   2019-12-19  Education & Construction Toys  ...      357700  208374558000\n",
              "8   2019-12-20  Education & Construction Toys  ...      392000  250252800000\n",
              "9   2019-12-21  Education & Construction Toys  ...      392000  250252800000\n",
              "10  2019-12-22  Education & Construction Toys  ...      198450   64137055500\n",
              "11  2019-12-23  Education & Construction Toys  ...           0             0\n",
              "12  2019-12-24  Education & Construction Toys  ...           0             0\n",
              "13  2019-12-25  Education & Construction Toys  ...           0             0\n",
              "\n",
              "[7 rows x 9 columns]"
            ]
          },
          "metadata": {
            "tags": []
          },
          "execution_count": 12
        }
      ]
    },
    {
      "cell_type": "markdown",
      "metadata": {
        "id": "O4uCr-XVMwVU"
      },
      "source": [
        "data insights\r\n",
        "\r\n",
        "----- inapproprite behaviours as sales gown darastically\r\n",
        "----- running out of stock & count become zero for education category\r\n",
        "----- "
      ]
    },
    {
      "cell_type": "code",
      "metadata": {
        "id": "KsUydNYCOqwy",
        "colab": {
          "base_uri": "https://localhost:8080/",
          "height": 142
        },
        "outputId": "2591e044-17fa-4826-c6df-4006785c9579"
      },
      "source": [
        "# Now we need to filter the data for the days when items were in stock\n",
        "education_in_stock = education_all.loc[df['in_stock_eod'] != 0]\n",
        "education_in_stock"
      ],
      "execution_count": 22,
      "outputs": [
        {
          "output_type": "execute_result",
          "data": {
            "text/html": [
              "<div>\n",
              "<style scoped>\n",
              "    .dataframe tbody tr th:only-of-type {\n",
              "        vertical-align: middle;\n",
              "    }\n",
              "\n",
              "    .dataframe tbody tr th {\n",
              "        vertical-align: top;\n",
              "    }\n",
              "\n",
              "    .dataframe thead th {\n",
              "        text-align: right;\n",
              "    }\n",
              "</style>\n",
              "<table border=\"1\" class=\"dataframe\">\n",
              "  <thead>\n",
              "    <tr style=\"text-align: right;\">\n",
              "      <th></th>\n",
              "      <th>date</th>\n",
              "      <th>category</th>\n",
              "      <th>count</th>\n",
              "      <th>purchase_price</th>\n",
              "      <th>sale_price</th>\n",
              "      <th>in_stock_eod</th>\n",
              "      <th>revenue</th>\n",
              "      <th>total_cost</th>\n",
              "      <th>profit</th>\n",
              "    </tr>\n",
              "  </thead>\n",
              "  <tbody>\n",
              "    <tr>\n",
              "      <th>7</th>\n",
              "      <td>2019-12-19</td>\n",
              "      <td>Education &amp; Construction Toys</td>\n",
              "      <td>146</td>\n",
              "      <td>2450</td>\n",
              "      <td>3990</td>\n",
              "      <td>401</td>\n",
              "      <td>582540</td>\n",
              "      <td>357700</td>\n",
              "      <td>208374558000</td>\n",
              "    </tr>\n",
              "    <tr>\n",
              "      <th>8</th>\n",
              "      <td>2019-12-20</td>\n",
              "      <td>Education &amp; Construction Toys</td>\n",
              "      <td>160</td>\n",
              "      <td>2450</td>\n",
              "      <td>3990</td>\n",
              "      <td>241</td>\n",
              "      <td>638400</td>\n",
              "      <td>392000</td>\n",
              "      <td>250252800000</td>\n",
              "    </tr>\n",
              "    <tr>\n",
              "      <th>9</th>\n",
              "      <td>2019-12-21</td>\n",
              "      <td>Education &amp; Construction Toys</td>\n",
              "      <td>160</td>\n",
              "      <td>2450</td>\n",
              "      <td>3990</td>\n",
              "      <td>81</td>\n",
              "      <td>638400</td>\n",
              "      <td>392000</td>\n",
              "      <td>250252800000</td>\n",
              "    </tr>\n",
              "  </tbody>\n",
              "</table>\n",
              "</div>"
            ],
            "text/plain": [
              "         date                       category  ...  total_cost        profit\n",
              "7  2019-12-19  Education & Construction Toys  ...      357700  208374558000\n",
              "8  2019-12-20  Education & Construction Toys  ...      392000  250252800000\n",
              "9  2019-12-21  Education & Construction Toys  ...      392000  250252800000\n",
              "\n",
              "[3 rows x 9 columns]"
            ]
          },
          "metadata": {
            "tags": []
          },
          "execution_count": 22
        }
      ]
    },
    {
      "cell_type": "code",
      "metadata": {
        "id": "0QOdjZvYOzm2",
        "colab": {
          "base_uri": "https://localhost:8080/"
        },
        "outputId": "8a28a539-448f-45a2-e259-bbb5e5a04c00"
      },
      "source": [
        "# Now we are calculating average profit per day for these days\n",
        "education_avg_profit = education_in_stock['profit'].mean()\n",
        "education_avg_profit"
      ],
      "execution_count": 23,
      "outputs": [
        {
          "output_type": "execute_result",
          "data": {
            "text/plain": [
              "236293386000.0"
            ]
          },
          "metadata": {
            "tags": []
          },
          "execution_count": 23
        }
      ]
    },
    {
      "cell_type": "code",
      "metadata": {
        "id": "dXb0sMf3PKcU",
        "colab": {
          "base_uri": "https://localhost:8080/",
          "height": 142
        },
        "outputId": "63f2cd66-7eed-46d7-eb9a-dcbeaefbae60"
      },
      "source": [
        "# Now let's filter the data for the days when there were no sales\n",
        "education_no_sales = education_all.loc[df['count'] == 0]\n",
        "education_no_sales"
      ],
      "execution_count": 25,
      "outputs": [
        {
          "output_type": "execute_result",
          "data": {
            "text/html": [
              "<div>\n",
              "<style scoped>\n",
              "    .dataframe tbody tr th:only-of-type {\n",
              "        vertical-align: middle;\n",
              "    }\n",
              "\n",
              "    .dataframe tbody tr th {\n",
              "        vertical-align: top;\n",
              "    }\n",
              "\n",
              "    .dataframe thead th {\n",
              "        text-align: right;\n",
              "    }\n",
              "</style>\n",
              "<table border=\"1\" class=\"dataframe\">\n",
              "  <thead>\n",
              "    <tr style=\"text-align: right;\">\n",
              "      <th></th>\n",
              "      <th>date</th>\n",
              "      <th>category</th>\n",
              "      <th>count</th>\n",
              "      <th>purchase_price</th>\n",
              "      <th>sale_price</th>\n",
              "      <th>in_stock_eod</th>\n",
              "      <th>revenue</th>\n",
              "      <th>total_cost</th>\n",
              "      <th>profit</th>\n",
              "    </tr>\n",
              "  </thead>\n",
              "  <tbody>\n",
              "    <tr>\n",
              "      <th>11</th>\n",
              "      <td>2019-12-23</td>\n",
              "      <td>Education &amp; Construction Toys</td>\n",
              "      <td>0</td>\n",
              "      <td>2450</td>\n",
              "      <td>3990</td>\n",
              "      <td>0</td>\n",
              "      <td>0</td>\n",
              "      <td>0</td>\n",
              "      <td>0</td>\n",
              "    </tr>\n",
              "    <tr>\n",
              "      <th>12</th>\n",
              "      <td>2019-12-24</td>\n",
              "      <td>Education &amp; Construction Toys</td>\n",
              "      <td>0</td>\n",
              "      <td>2450</td>\n",
              "      <td>3990</td>\n",
              "      <td>0</td>\n",
              "      <td>0</td>\n",
              "      <td>0</td>\n",
              "      <td>0</td>\n",
              "    </tr>\n",
              "    <tr>\n",
              "      <th>13</th>\n",
              "      <td>2019-12-25</td>\n",
              "      <td>Education &amp; Construction Toys</td>\n",
              "      <td>0</td>\n",
              "      <td>2450</td>\n",
              "      <td>3990</td>\n",
              "      <td>0</td>\n",
              "      <td>0</td>\n",
              "      <td>0</td>\n",
              "      <td>0</td>\n",
              "    </tr>\n",
              "  </tbody>\n",
              "</table>\n",
              "</div>"
            ],
            "text/plain": [
              "          date                       category  ...  total_cost  profit\n",
              "11  2019-12-23  Education & Construction Toys  ...           0       0\n",
              "12  2019-12-24  Education & Construction Toys  ...           0       0\n",
              "13  2019-12-25  Education & Construction Toys  ...           0       0\n",
              "\n",
              "[3 rows x 9 columns]"
            ]
          },
          "metadata": {
            "tags": []
          },
          "execution_count": 25
        }
      ]
    },
    {
      "cell_type": "code",
      "metadata": {
        "id": "UuLRCKI_PV-L",
        "colab": {
          "base_uri": "https://localhost:8080/"
        },
        "outputId": "a26a437b-5e34-4d5b-987c-875157e9f6f2"
      },
      "source": [
        "# Now we should count the number of days when there were no sales\n",
        "education_days_without_sales = education_no_sales['date'].count()\n",
        "education_days_without_sales"
      ],
      "execution_count": 26,
      "outputs": [
        {
          "output_type": "execute_result",
          "data": {
            "text/plain": [
              "3"
            ]
          },
          "metadata": {
            "tags": []
          },
          "execution_count": 26
        }
      ]
    },
    {
      "cell_type": "code",
      "metadata": {
        "id": "6S537sGIpkF1",
        "colab": {
          "base_uri": "https://localhost:8080/"
        },
        "outputId": "4ab08ac1-c9fc-4314-e20e-ae6965d7d751"
      },
      "source": [
        "# How much profit would we get in this category if we had enough stock?\n",
        "education_additional_profit = education_avg_profit * education_days_without_sales\n",
        "education_additional_profit"
      ],
      "execution_count": 27,
      "outputs": [
        {
          "output_type": "execute_result",
          "data": {
            "text/plain": [
              "708880158000.0"
            ]
          },
          "metadata": {
            "tags": []
          },
          "execution_count": 27
        }
      ]
    },
    {
      "cell_type": "code",
      "metadata": {
        "id": "0gBObmLbpzo9",
        "colab": {
          "base_uri": "https://localhost:8080/"
        },
        "outputId": "627c19e1-0a40-41a7-8ca9-09b3e6273717"
      },
      "source": [
        "# Now let's calculate additional profit for\n",
        "# * 'Vehicles, Tracksets & Remote Control Toys'\n",
        "\n",
        "#vehicles_all = ### YOUR CODE HERE\n",
        "vehicles_all = df.loc[df['category'] == 'Vehicles, Tracksets & Remote Control Toys']\n",
        "vehicles_all\n",
        "\n",
        "\n",
        "\n",
        "\n",
        "####\n",
        "vehicles_in_stock = vehicles_all.loc[df['in_stock_eod'] != 0]\n",
        "vehicles_avg_profit = vehicles_in_stock['profit'].mean()\n",
        "\n",
        "vehicles_no_sales = vehicles_all.loc[df['count'] == 0]\n",
        "vehicles_days_without_sales = vehicles_no_sales['date'].count()\n",
        "\n",
        "vehicles_additional_profit = vehicles_avg_profit * vehicles_days_without_sales\n",
        "\n",
        "vehicles_additional_profit"
      ],
      "execution_count": 29,
      "outputs": [
        {
          "output_type": "execute_result",
          "data": {
            "text/plain": [
              "1199210006666.6667"
            ]
          },
          "metadata": {
            "tags": []
          },
          "execution_count": 29
        }
      ]
    },
    {
      "cell_type": "code",
      "metadata": {
        "id": "7EUptyUns5ws",
        "colab": {
          "base_uri": "https://localhost:8080/"
        },
        "outputId": "f8e4759e-caa2-4086-e247-71a949fc48ef"
      },
      "source": [
        "# Now let's calculate additional profit for\n",
        "# * 'Collectibles & Toy Guns'\n",
        "\n",
        "collectibles_all = df.loc[df['category'] == 'Collectibles & Toy Guns']\n",
        "collectibles_all\n",
        "\n",
        "\n",
        "\n",
        "### YOUR CODE HERE\n",
        "collectibles_in_stock = collectibles_all.loc[df['in_stock_eod'] != 0]\n",
        "collectibles_avg_profit = collectibles_in_stock['profit'].mean()\n",
        "\n",
        "collectibles_no_sales = collectibles_all.loc[df['count'] == 0]\n",
        "collectibles_days_without_sales = collectibles_no_sales['date'].count()\n",
        "\n",
        "collectibles_additional_profit = collectibles_avg_profit * collectibles_days_without_sales\n",
        "collectibles_additional_profit"
      ],
      "execution_count": 32,
      "outputs": [
        {
          "output_type": "execute_result",
          "data": {
            "text/plain": [
              "139606706720.0"
            ]
          },
          "metadata": {
            "tags": []
          },
          "execution_count": 32
        }
      ]
    },
    {
      "cell_type": "code",
      "metadata": {
        "id": "ohqVcm38qLFu",
        "colab": {
          "base_uri": "https://localhost:8080/"
        },
        "outputId": "50198a7d-601e-4e24-a76f-995bca11ea52"
      },
      "source": [
        "# Let's calculate total additional profit for all the categories\n",
        "total_additional_profit = collectibles_additional_profit + vehicles_additional_profit + education_additional_profit\n",
        "### YOUR CODE HERE\n",
        "total_additional_profit"
      ],
      "execution_count": 34,
      "outputs": [
        {
          "output_type": "execute_result",
          "data": {
            "text/plain": [
              "2047696871386.6667"
            ]
          },
          "metadata": {
            "tags": []
          },
          "execution_count": 34
        }
      ]
    },
    {
      "cell_type": "code",
      "metadata": {
        "id": "6D35-N9QVxi-",
        "colab": {
          "base_uri": "https://localhost:8080/"
        },
        "outputId": "3847fb3b-fff6-4f3a-8ec9-7f4e6c225a65"
      },
      "source": [
        "profit + total_additional_profit"
      ],
      "execution_count": 35,
      "outputs": [
        {
          "output_type": "execute_result",
          "data": {
            "text/plain": [
              "5277427158236.667"
            ]
          },
          "metadata": {
            "tags": []
          },
          "execution_count": 35
        }
      ]
    },
    {
      "cell_type": "code",
      "metadata": {
        "id": "k1WpLk0WKYUe"
      },
      "source": [
        ""
      ],
      "execution_count": null,
      "outputs": []
    }
  ]
}